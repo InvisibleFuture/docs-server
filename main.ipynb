{
 "cells": [
  {
   "cell_type": "code",
   "execution_count": 21,
   "metadata": {},
   "outputs": [],
   "source": [
    "import os\n",
    "import fastapi\n",
    "import uvicorn\n",
    "\n",
    "def search_files(name: str):\n",
    "    # 从 static 文件夹遍历搜索文件或文件夹名中包含搜索词name的文件或文件夹\n",
    "    result = []\n",
    "    for root, dirs, files in os.walk('static'):\n",
    "        for each in files:\n",
    "            if name in each:\n",
    "                result.append(os.path.join(root, each))\n",
    "        for each in dirs:\n",
    "            if name in each:\n",
    "                result.append(os.path.join(root, each))\n",
    "    return result\n",
    "\n",
    "name = search_files('新建')"
   ]
  },
  {
   "cell_type": "code",
   "execution_count": 24,
   "metadata": {},
   "outputs": [
    {
     "name": "stdout",
     "output_type": "stream",
     "text": [
      "['static/DISPX/新建文件MR', 'static/DISPX/新建文件夹1', 'static/DISPX/新建文件夹', 'static/DISPX/新建文FS', 'static/DISPX/DEMO/2. 新建文', 'static/DISPX/DEMO/新建文件夹', 'static/DISPX/DEMO/新建', 'static/DISPX/DEMO/3. 新建文件夹2', 'static/DISPX/DEMO/HAHAHA/2. 新建文 (1).zip', 'static/DISPX/DEMO/HAHAHA/新建.zip']\n"
     ]
    }
   ],
   "source": [
    "print(name)"
   ]
  }
 ],
 "metadata": {
  "kernelspec": {
   "display_name": "Python 3.10.4 64-bit",
   "language": "python",
   "name": "python3"
  },
  "language_info": {
   "codemirror_mode": {
    "name": "ipython",
    "version": 3
   },
   "file_extension": ".py",
   "mimetype": "text/x-python",
   "name": "python",
   "nbconvert_exporter": "python",
   "pygments_lexer": "ipython3",
   "version": "3.10.6"
  },
  "orig_nbformat": 4,
  "vscode": {
   "interpreter": {
    "hash": "916dbcbb3f70747c44a77c7bcd40155683ae19c65e1c03b4aa3499c5328201f1"
   }
  }
 },
 "nbformat": 4,
 "nbformat_minor": 2
}
