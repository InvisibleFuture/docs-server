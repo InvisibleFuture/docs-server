{
 "cells": [
  {
   "cell_type": "code",
   "execution_count": 3,
   "metadata": {},
   "outputs": [
    {
     "name": "stdout",
     "output_type": "stream",
     "text": [
      "['static/新建文件夹1', 'static/新建文件夹', 'static/新建文件夹2', 'static/新建文件夹1/新建文件夹1', 'static/新建文件夹1/新建文件夹', 'static/新建文件夹1/新建文件夹2', 'static/新建文件夹/新建文件夹1', 'static/新建文件夹/新建文件夹', 'static/新建文件夹/新建文件夹2', 'static/新建文件夹/新建文件夹/新建文件夹1', 'static/新建文件夹/新建文件夹/新建文件夹', 'static/新建文件夹/新建文件夹/新建文件夹2', 'static/新建文件夹/新建文件夹/新建文']\n"
     ]
    }
   ],
   "source": [
    "import os\n",
    "\n",
    "def search_files(name: str):\n",
    "    # 从 static 文件夹遍历搜索文件或文件夹名中包含搜索词name的文件或文件夹\n",
    "    result = []\n",
    "    for root, dirs, files in os.walk('static'):\n",
    "        for each in files:\n",
    "            if name in each:\n",
    "                result.append(os.path.join(root, each))\n",
    "        for each in dirs:\n",
    "            if name in each:\n",
    "                result.append(os.path.join(root, each))\n",
    "    return result\n",
    "\n",
    "name = search_files('新建')\n",
    "print(name)"
   ]
  },
  {
   "cell_type": "code",
   "execution_count": null,
   "metadata": {},
   "outputs": [],
   "source": [
    "\n",
    "# 将图片转换为无损压缩的webp格式xx\n",
    "from PIL import Image\n",
    "\n",
    "input_path = './static/631f00398f0f1f3b536c78332d635a1b_detail.jpg'\n",
    "output_path = './static/631f00398f0f1f3b536c78332d635a1b_detail.webp'\n",
    "Image.open(input_path).save(output_path, 'webp')\n"
   ]
  },
  {
   "cell_type": "code",
   "execution_count": 1,
   "metadata": {},
   "outputs": [
    {
     "name": "stdout",
     "output_type": "stream",
     "text": [
      "\n",
      "1*1=1 \n",
      "1*2=2  2*2=4 \n",
      "1*3=3  2*3=6  3*3=9 \n",
      "1*4=4  2*4=8  3*4=12 4*4=16\n",
      "1*5=5  2*5=10 3*5=15 4*5=20 5*5=25\n",
      "1*6=6  2*6=12 3*6=18 4*6=24 5*6=30 6*6=36\n",
      "1*7=7  2*7=14 3*7=21 4*7=28 5*7=35 6*7=42 7*7=49\n",
      "1*8=8  2*8=16 3*8=24 4*8=32 5*8=40 6*8=48 7*8=56 8*8=64\n",
      "1*9=9  2*9=18 3*9=27 4*9=36 5*9=45 6*9=54 7*9=63 8*9=72 9*9=81\n",
      "\n"
     ]
    }
   ],
   "source": [
    "print('\\n'+'\\n'.join([' '.join(['%s*%s=%-2s' % (y,x,x*y)for y in range(1,x+1)])for x in range(1,10)])+'\\n');"
   ]
  },
  {
   "cell_type": "code",
   "execution_count": 1,
   "metadata": {},
   "outputs": [
    {
     "name": "stdout",
     "output_type": "stream",
     "text": [
      "{'code': 0, 'msg': '发送成功', 'count': 1, 'fee': 0.05, 'unit': 'RMB', 'mobile': '15896926310', 'sid': 73453062286}\n"
     ]
    }
   ],
   "source": [
    "# 发送短信验证码\n",
    "import requests\n",
    "def send_tpl_sms(mobile, code):\n",
    "    url = 'https://sms.yunpian.com/v2/sms/tpl_single_send.json'\n",
    "    headers = { \"Content-Type\": \"application/x-www-form-urlencoded; charset=UTF-8\" }\n",
    "    data = 'apikey=870bb619c2d1ebc3519789a845ba5dca&mobile='+mobile+'&tpl_id=5227126&tpl_value=%2523code%2523%3D'+code\n",
    "    response = requests.post(url=url, headers=headers, data=data)\n",
    "    response_dict = response.json()\n",
    "    print(response_dict)\n",
    "\n",
    "send_tpl_sms('', '000000')\n",
    "\n"
   ]
  },
  {
   "cell_type": "code",
   "execution_count": 4,
   "metadata": {},
   "outputs": [
    {
     "name": "stdout",
     "output_type": "stream",
     "text": [
      "764508\n"
     ]
    }
   ],
   "source": [
    "import random, string\n",
    "\n",
    "# 生成随机验证码(6位数)\n",
    "code = ''.join(random.sample(string.digits, 6))\n",
    "print(code)\n"
   ]
  }
 ],
 "metadata": {
  "kernelspec": {
   "display_name": "Python 3 (ipykernel)",
   "language": "python",
   "name": "python3"
  },
  "language_info": {
   "codemirror_mode": {
    "name": "ipython",
    "version": 3
   },
   "file_extension": ".py",
   "mimetype": "text/x-python",
   "name": "python",
   "nbconvert_exporter": "python",
   "pygments_lexer": "ipython3",
   "version": "3.10.6"
  },
  "vscode": {
   "interpreter": {
    "hash": "916dbcbb3f70747c44a77c7bcd40155683ae19c65e1c03b4aa3499c5328201f1"
   }
  }
 },
 "nbformat": 4,
 "nbformat_minor": 4
}
